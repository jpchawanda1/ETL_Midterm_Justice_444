{
 "cells": [
  {
   "cell_type": "code",
   "execution_count": 8,
   "id": "20768049",
   "metadata": {},
   "outputs": [
    {
     "name": "stdout",
     "output_type": "stream",
     "text": [
      "Preview of full_data table:\n",
      "+----+------------+-----------------+-----------+-----------+------------+--------------+---------------+--------------+----------+\n",
      "|    |   order_id | customer_name   | product   | Purpose   |   quantity |   unit_price |   total_price | order_date   | region   |\n",
      "+====+============+=================+===========+===========+============+==============+===============+==============+==========+\n",
      "|  0 |          1 | Diana           | Tablet    | Other     |          2 |          500 |          1000 | 2024-01-20   | South    |\n",
      "+----+------------+-----------------+-----------+-----------+------------+--------------+---------------+--------------+----------+\n",
      "|  1 |          2 | Eve             | Laptop    | Leisure   |          2 |          500 |          1000 | 2024-04-29   | North    |\n",
      "+----+------------+-----------------+-----------+-----------+------------+--------------+---------------+--------------+----------+\n",
      "|  2 |          3 | Charlie         | Laptop    | Other     |          2 |          250 |           500 | 2024-01-08   | Unknown  |\n",
      "+----+------------+-----------------+-----------+-----------+------------+--------------+---------------+--------------+----------+\n",
      "|  3 |          4 | Eve             | Laptop    | Other     |          2 |          750 |          1500 | 2024-01-07   | West     |\n",
      "+----+------------+-----------------+-----------+-----------+------------+--------------+---------------+--------------+----------+\n",
      "|  4 |          5 | Eve             | Tablet    | Work      |          3 |          500 |          1500 | 2024-03-07   | South    |\n",
      "+----+------------+-----------------+-----------+-----------+------------+--------------+---------------+--------------+----------+\n"
     ]
    }
   ],
   "source": [
    "import pandas as pd\n",
    "import sqlite3\n",
    "import os\n",
    "from tabulate import tabulate\n",
    "\n",
    "# Ensure output directory exists\n",
    "os.makedirs('loaded', exist_ok=True)\n",
    "\n",
    "# Load transformed CSVs\n",
    "full_df = pd.read_csv('transformed/transformed_full.csv')\n",
    "incremental_df = pd.read_csv('transformed/transformed_incremental.csv')\n",
    "\n",
    "# Create SQLite database in loaded/ folder\n",
    "db_path = 'loaded/etl_results.db'\n",
    "conn = sqlite3.connect(db_path)\n",
    "\n",
    "# Write DataFrames to SQLite tables\n",
    "full_df.to_sql('full_data', conn, if_exists='replace', index=False)\n",
    "incremental_df.to_sql('incremental_data', conn, if_exists='replace', index=False)\n",
    "\n",
    "# Preview the stored results using SQL query and format as table\n",
    "preview_df = pd.read_sql_query('SELECT * FROM full_data LIMIT 5', conn)\n",
    "# Reorder columns: Purpose after product, total_price after unit_price if both exist\n",
    "cols = list(preview_df.columns)\n",
    "if 'Purpose' in cols and 'product' in cols:\n",
    "    cols.remove('Purpose')\n",
    "    prod_idx = cols.index('product')\n",
    "    cols.insert(prod_idx + 1, 'Purpose')\n",
    "if 'total_price' in cols and 'unit_price' in cols:\n",
    "    cols.remove('total_price')\n",
    "    unit_idx = cols.index('unit_price')\n",
    "    cols.insert(unit_idx + 1, 'total_price')\n",
    "preview_df = preview_df[cols]\n",
    "print('Preview of full_data table:')\n",
    "print(tabulate(preview_df, headers='keys', tablefmt='grid'))\n",
    "\n",
    "# Close the connection\n",
    "conn.close()"
   ]
  }
 ],
 "metadata": {
  "kernelspec": {
   "display_name": "Python 3",
   "language": "python",
   "name": "python3"
  },
  "language_info": {
   "codemirror_mode": {
    "name": "ipython",
    "version": 3
   },
   "file_extension": ".py",
   "mimetype": "text/x-python",
   "name": "python",
   "nbconvert_exporter": "python",
   "pygments_lexer": "ipython3",
   "version": "3.10.11"
  }
 },
 "nbformat": 4,
 "nbformat_minor": 5
}
